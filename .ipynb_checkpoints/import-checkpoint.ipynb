{
 "cells": [
  {
   "cell_type": "code",
   "execution_count": 26,
   "id": "fc10d647-782a-486b-ae88-2841d4bf956f",
   "metadata": {},
   "outputs": [],
   "source": [
    "import os\n",
    "import pandas as pd"
   ]
  },
  {
   "cell_type": "code",
   "execution_count": 27,
   "id": "4598cf32-6654-4115-b500-6676498d1c4e",
   "metadata": {},
   "outputs": [],
   "source": [
    "# Путь к папке с файлами .csv\n",
    "folder_path = '/home/alena/Рабочий стол/Уник/наука о данных/inaturalist/csv_dir'\n",
    "file_list = os.listdir(folder_path)\n",
    "combined_df = pd.DataFrame()\n",
    "\n",
    "for file in file_list:\n",
    "    if file.endswith('.csv'):\n",
    "        file_path = os.path.join(folder_path, file)\n",
    "        df = pd.read_csv(file_path)\n",
    "        combined_df = pd.concat([combined_df, df], ignore_index=True)"
   ]
  },
  {
   "cell_type": "code",
   "execution_count": 28,
   "id": "90871237-2c22-42b8-a07b-c1e35cebadd8",
   "metadata": {},
   "outputs": [
    {
     "data": {
      "text/html": [
       "<div>\n",
       "<style scoped>\n",
       "    .dataframe tbody tr th:only-of-type {\n",
       "        vertical-align: middle;\n",
       "    }\n",
       "\n",
       "    .dataframe tbody tr th {\n",
       "        vertical-align: top;\n",
       "    }\n",
       "\n",
       "    .dataframe thead th {\n",
       "        text-align: right;\n",
       "    }\n",
       "</style>\n",
       "<table border=\"1\" class=\"dataframe\">\n",
       "  <thead>\n",
       "    <tr style=\"text-align: right;\">\n",
       "      <th></th>\n",
       "      <th>id</th>\n",
       "      <th>image_url</th>\n",
       "      <th>type</th>\n",
       "    </tr>\n",
       "  </thead>\n",
       "  <tbody>\n",
       "    <tr>\n",
       "      <th>0</th>\n",
       "      <td>444895</td>\n",
       "      <td>https://inaturalist-open-data.s3.amazonaws.com...</td>\n",
       "      <td>желтоносая</td>\n",
       "    </tr>\n",
       "    <tr>\n",
       "      <th>1</th>\n",
       "      <td>1500810</td>\n",
       "      <td>https://inaturalist-open-data.s3.amazonaws.com...</td>\n",
       "      <td>желтоносая</td>\n",
       "    </tr>\n",
       "    <tr>\n",
       "      <th>2</th>\n",
       "      <td>1645814</td>\n",
       "      <td>https://static.inaturalist.org/photos/2019130/...</td>\n",
       "      <td>желтоносая</td>\n",
       "    </tr>\n",
       "    <tr>\n",
       "      <th>3</th>\n",
       "      <td>2011133</td>\n",
       "      <td>https://inaturalist-open-data.s3.amazonaws.com...</td>\n",
       "      <td>желтоносая</td>\n",
       "    </tr>\n",
       "    <tr>\n",
       "      <th>4</th>\n",
       "      <td>3989043</td>\n",
       "      <td>https://inaturalist-open-data.s3.amazonaws.com...</td>\n",
       "      <td>желтоносая</td>\n",
       "    </tr>\n",
       "  </tbody>\n",
       "</table>\n",
       "</div>"
      ],
      "text/plain": [
       "        id                                          image_url        type\n",
       "0   444895  https://inaturalist-open-data.s3.amazonaws.com...  желтоносая\n",
       "1  1500810  https://inaturalist-open-data.s3.amazonaws.com...  желтоносая\n",
       "2  1645814  https://static.inaturalist.org/photos/2019130/...  желтоносая\n",
       "3  2011133  https://inaturalist-open-data.s3.amazonaws.com...  желтоносая\n",
       "4  3989043  https://inaturalist-open-data.s3.amazonaws.com...  желтоносая"
      ]
     },
     "execution_count": 28,
     "metadata": {},
     "output_type": "execute_result"
    }
   ],
   "source": [
    "combined_df.head()"
   ]
  },
  {
   "cell_type": "code",
   "execution_count": 29,
   "id": "2e42fdc4-b3f3-4705-a764-39af26b480d0",
   "metadata": {},
   "outputs": [
    {
     "data": {
      "text/plain": [
       "(2951, 3)"
      ]
     },
     "execution_count": 29,
     "metadata": {},
     "output_type": "execute_result"
    }
   ],
   "source": [
    "combined_df.shape"
   ]
  },
  {
   "cell_type": "code",
   "execution_count": 35,
   "id": "423365a9-f466-4703-b9e9-bb6cb930440e",
   "metadata": {},
   "outputs": [
    {
     "data": {
      "text/html": [
       "<div>\n",
       "<style scoped>\n",
       "    .dataframe tbody tr th:only-of-type {\n",
       "        vertical-align: middle;\n",
       "    }\n",
       "\n",
       "    .dataframe tbody tr th {\n",
       "        vertical-align: top;\n",
       "    }\n",
       "\n",
       "    .dataframe thead th {\n",
       "        text-align: right;\n",
       "    }\n",
       "</style>\n",
       "<table border=\"1\" class=\"dataframe\">\n",
       "  <thead>\n",
       "    <tr style=\"text-align: right;\">\n",
       "      <th></th>\n",
       "      <th>id</th>\n",
       "      <th>image_url</th>\n",
       "      <th>type</th>\n",
       "    </tr>\n",
       "  </thead>\n",
       "  <tbody>\n",
       "    <tr>\n",
       "      <th>0</th>\n",
       "      <td>0</td>\n",
       "      <td>https://inaturalist-open-data.s3.amazonaws.com...</td>\n",
       "      <td>желтоносая</td>\n",
       "    </tr>\n",
       "    <tr>\n",
       "      <th>1</th>\n",
       "      <td>1</td>\n",
       "      <td>https://inaturalist-open-data.s3.amazonaws.com...</td>\n",
       "      <td>желтоносая</td>\n",
       "    </tr>\n",
       "    <tr>\n",
       "      <th>2</th>\n",
       "      <td>2</td>\n",
       "      <td>https://static.inaturalist.org/photos/2019130/...</td>\n",
       "      <td>желтоносая</td>\n",
       "    </tr>\n",
       "    <tr>\n",
       "      <th>3</th>\n",
       "      <td>3</td>\n",
       "      <td>https://inaturalist-open-data.s3.amazonaws.com...</td>\n",
       "      <td>желтоносая</td>\n",
       "    </tr>\n",
       "    <tr>\n",
       "      <th>4</th>\n",
       "      <td>4</td>\n",
       "      <td>https://inaturalist-open-data.s3.amazonaws.com...</td>\n",
       "      <td>желтоносая</td>\n",
       "    </tr>\n",
       "    <tr>\n",
       "      <th>...</th>\n",
       "      <td>...</td>\n",
       "      <td>...</td>\n",
       "      <td>...</td>\n",
       "    </tr>\n",
       "    <tr>\n",
       "      <th>2946</th>\n",
       "      <td>2946</td>\n",
       "      <td>https://static.inaturalist.org/photos/34125452...</td>\n",
       "      <td>пестроносая</td>\n",
       "    </tr>\n",
       "    <tr>\n",
       "      <th>2947</th>\n",
       "      <td>2947</td>\n",
       "      <td>https://static.inaturalist.org/photos/34142820...</td>\n",
       "      <td>пестроносая</td>\n",
       "    </tr>\n",
       "    <tr>\n",
       "      <th>2948</th>\n",
       "      <td>2948</td>\n",
       "      <td>https://static.inaturalist.org/photos/34144085...</td>\n",
       "      <td>пестроносая</td>\n",
       "    </tr>\n",
       "    <tr>\n",
       "      <th>2949</th>\n",
       "      <td>2949</td>\n",
       "      <td>https://inaturalist-open-data.s3.amazonaws.com...</td>\n",
       "      <td>пестроносая</td>\n",
       "    </tr>\n",
       "    <tr>\n",
       "      <th>2950</th>\n",
       "      <td>2950</td>\n",
       "      <td>https://static.inaturalist.org/photos/34172339...</td>\n",
       "      <td>пестроносая</td>\n",
       "    </tr>\n",
       "  </tbody>\n",
       "</table>\n",
       "<p>2951 rows × 3 columns</p>\n",
       "</div>"
      ],
      "text/plain": [
       "        id                                          image_url         type\n",
       "0        0  https://inaturalist-open-data.s3.amazonaws.com...   желтоносая\n",
       "1        1  https://inaturalist-open-data.s3.amazonaws.com...   желтоносая\n",
       "2        2  https://static.inaturalist.org/photos/2019130/...   желтоносая\n",
       "3        3  https://inaturalist-open-data.s3.amazonaws.com...   желтоносая\n",
       "4        4  https://inaturalist-open-data.s3.amazonaws.com...   желтоносая\n",
       "...    ...                                                ...          ...\n",
       "2946  2946  https://static.inaturalist.org/photos/34125452...  пестроносая\n",
       "2947  2947  https://static.inaturalist.org/photos/34142820...  пестроносая\n",
       "2948  2948  https://static.inaturalist.org/photos/34144085...  пестроносая\n",
       "2949  2949  https://inaturalist-open-data.s3.amazonaws.com...  пестроносая\n",
       "2950  2950  https://static.inaturalist.org/photos/34172339...  пестроносая\n",
       "\n",
       "[2951 rows x 3 columns]"
      ]
     },
     "execution_count": 35,
     "metadata": {},
     "output_type": "execute_result"
    }
   ],
   "source": [
    "selected_columns = ['id', 'image_url', 'type']\n",
    "filtered_df = combined_df[selected_columns].dropna().reset_index(drop=True).copy()\n",
    "filtered_df['id'] = filtered_df.index\n",
    "class_mapping = {\n",
    "    'желтоносая': 'желтоносая',\n",
    "    'пестроносая': 'пестроносая',\n",
    "}\n",
    "filtered_df['type'] = filtered_df['type'].map(class_mapping)\n",
    "filtered_df"
   ]
  },
  {
   "cell_type": "code",
   "execution_count": 36,
   "id": "81050ce7-bfca-4391-ab8a-eacfde889d50",
   "metadata": {},
   "outputs": [
    {
     "name": "stdout",
     "output_type": "stream",
     "text": [
      "Данные сохранены в файл: /home/alena/Рабочий стол/Уник/наука о данных/inaturalist/filtered_data.csv\n"
     ]
    }
   ],
   "source": [
    "output_file_path = '/home/alena/Рабочий стол/Уник/наука о данных/inaturalist/filtered_data.csv'\n",
    "filtered_df.to_csv(output_file_path, index=False)\n",
    "print(f\"Данные сохранены в файл: {output_file_path}\")"
   ]
  },
  {
   "cell_type": "code",
   "execution_count": 39,
   "id": "04a20202-7dc7-49b7-a238-a4408790da7a",
   "metadata": {},
   "outputs": [
    {
     "name": "stdout",
     "output_type": "stream",
     "text": [
      "Изображение 0 сохранено в imagesжелтоносая/0.jpg\n",
      "Изображение 1 сохранено в imagesжелтоносая/1.jpg\n",
      "Изображение 2 сохранено в imagesжелтоносая/2.jpg\n",
      "Изображение 3 сохранено в imagesжелтоносая/3.jpg\n",
      "Изображение 4 сохранено в imagesжелтоносая/4.jpg\n",
      "Изображение 5 сохранено в imagesжелтоносая/5.jpg\n"
     ]
    },
    {
     "ename": "FileNotFoundError",
     "evalue": "[Errno 2] No such file or directory: 'imagesжелтоносая/6.jpg'",
     "output_type": "error",
     "traceback": [
      "\u001b[0;31m---------------------------------------------------------------------------\u001b[0m",
      "\u001b[0;31mFileNotFoundError\u001b[0m                         Traceback (most recent call last)",
      "Cell \u001b[0;32mIn[39], line 17\u001b[0m\n\u001b[1;32m     15\u001b[0m \u001b[38;5;28;01mif\u001b[39;00m \u001b[38;5;129;01mnot\u001b[39;00m os\u001b[38;5;241m.\u001b[39mpath\u001b[38;5;241m.\u001b[39mexists(image_path):\n\u001b[1;32m     16\u001b[0m     response \u001b[38;5;241m=\u001b[39m requests\u001b[38;5;241m.\u001b[39mget(image_url)\n\u001b[0;32m---> 17\u001b[0m     \u001b[38;5;28;01mwith\u001b[39;00m \u001b[38;5;28;43mopen\u001b[39;49m\u001b[43m(\u001b[49m\u001b[43mimage_path\u001b[49m\u001b[43m,\u001b[49m\u001b[43m \u001b[49m\u001b[38;5;124;43m'\u001b[39;49m\u001b[38;5;124;43mwb\u001b[39;49m\u001b[38;5;124;43m'\u001b[39;49m\u001b[43m)\u001b[49m \u001b[38;5;28;01mas\u001b[39;00m f:\n\u001b[1;32m     18\u001b[0m         f\u001b[38;5;241m.\u001b[39mwrite(response\u001b[38;5;241m.\u001b[39mcontent)\n\u001b[1;32m     20\u001b[0m     \u001b[38;5;28mprint\u001b[39m(\u001b[38;5;124mf\u001b[39m\u001b[38;5;124m\"\u001b[39m\u001b[38;5;124mИзображение \u001b[39m\u001b[38;5;132;01m{\u001b[39;00mimage_index\u001b[38;5;132;01m}\u001b[39;00m\u001b[38;5;124m сохранено в \u001b[39m\u001b[38;5;132;01m{\u001b[39;00mimage_path\u001b[38;5;132;01m}\u001b[39;00m\u001b[38;5;124m\"\u001b[39m)\n",
      "File \u001b[0;32m~/miniconda3/lib/python3.9/site-packages/IPython/core/interactiveshell.py:310\u001b[0m, in \u001b[0;36m_modified_open\u001b[0;34m(file, *args, **kwargs)\u001b[0m\n\u001b[1;32m    303\u001b[0m \u001b[38;5;28;01mif\u001b[39;00m file \u001b[38;5;129;01min\u001b[39;00m {\u001b[38;5;241m0\u001b[39m, \u001b[38;5;241m1\u001b[39m, \u001b[38;5;241m2\u001b[39m}:\n\u001b[1;32m    304\u001b[0m     \u001b[38;5;28;01mraise\u001b[39;00m \u001b[38;5;167;01mValueError\u001b[39;00m(\n\u001b[1;32m    305\u001b[0m         \u001b[38;5;124mf\u001b[39m\u001b[38;5;124m\"\u001b[39m\u001b[38;5;124mIPython won\u001b[39m\u001b[38;5;124m'\u001b[39m\u001b[38;5;124mt let you open fd=\u001b[39m\u001b[38;5;132;01m{\u001b[39;00mfile\u001b[38;5;132;01m}\u001b[39;00m\u001b[38;5;124m by default \u001b[39m\u001b[38;5;124m\"\u001b[39m\n\u001b[1;32m    306\u001b[0m         \u001b[38;5;124m\"\u001b[39m\u001b[38;5;124mas it is likely to crash IPython. If you know what you are doing, \u001b[39m\u001b[38;5;124m\"\u001b[39m\n\u001b[1;32m    307\u001b[0m         \u001b[38;5;124m\"\u001b[39m\u001b[38;5;124myou can use builtins\u001b[39m\u001b[38;5;124m'\u001b[39m\u001b[38;5;124m open.\u001b[39m\u001b[38;5;124m\"\u001b[39m\n\u001b[1;32m    308\u001b[0m     )\n\u001b[0;32m--> 310\u001b[0m \u001b[38;5;28;01mreturn\u001b[39;00m \u001b[43mio_open\u001b[49m\u001b[43m(\u001b[49m\u001b[43mfile\u001b[49m\u001b[43m,\u001b[49m\u001b[43m \u001b[49m\u001b[38;5;241;43m*\u001b[39;49m\u001b[43margs\u001b[49m\u001b[43m,\u001b[49m\u001b[43m \u001b[49m\u001b[38;5;241;43m*\u001b[39;49m\u001b[38;5;241;43m*\u001b[39;49m\u001b[43mkwargs\u001b[49m\u001b[43m)\u001b[49m\n",
      "\u001b[0;31mFileNotFoundError\u001b[0m: [Errno 2] No such file or directory: 'imagesжелтоносая/6.jpg'"
     ]
    }
   ],
   "source": [
    "import os\n",
    "import requests\n",
    "\n",
    "image_folder_path = {}\n",
    "for class_ in filtered_df['type'].unique():\n",
    "    image_folder_path[class_] = 'imag'+class_\n",
    "    os.makedirs(image_folder_path[class_], exist_ok=True)\n",
    "\n",
    "for index, row in filtered_df.iterrows():\n",
    "    image_index = row['id']\n",
    "    image_url = row['image_url']\n",
    "    image_class = row['type']\n",
    "    image_path = os.path.join(image_folder_path[image_class], f'{image_index}.jpg')\n",
    "\n",
    "    if not os.path.exists(image_path):\n",
    "        response = requests.get(image_url)\n",
    "        with open(image_path, 'wb') as f:\n",
    "            f.write(response.content)\n",
    "\n",
    "        print(f\"Изображение {image_index} сохранено в {image_path}\")\n",
    "    else:\n",
    "        print(f\"Изображение {image_index} уже существует в {image_path}. Пропускаем.\")"
   ]
  },
  {
   "cell_type": "code",
   "execution_count": null,
   "id": "9678eb9a-aad7-4361-97e9-0246036405a5",
   "metadata": {},
   "outputs": [],
   "source": []
  },
  {
   "cell_type": "code",
   "execution_count": null,
   "id": "89081d55-0ed9-4392-ac00-7c1a9eb3bba2",
   "metadata": {},
   "outputs": [],
   "source": []
  },
  {
   "cell_type": "code",
   "execution_count": null,
   "id": "2dd0eeb7-551d-4f49-9518-d72661f964df",
   "metadata": {},
   "outputs": [],
   "source": []
  },
  {
   "cell_type": "code",
   "execution_count": null,
   "id": "08e499b0-87c0-49e1-a1db-c3398ad21cb9",
   "metadata": {},
   "outputs": [],
   "source": []
  },
  {
   "cell_type": "code",
   "execution_count": null,
   "id": "58099bfe-2330-47d8-9258-69b700e1fd65",
   "metadata": {},
   "outputs": [],
   "source": []
  }
 ],
 "metadata": {
  "kernelspec": {
   "display_name": "Python 3 (ipykernel)",
   "language": "python",
   "name": "python3"
  },
  "language_info": {
   "codemirror_mode": {
    "name": "ipython",
    "version": 3
   },
   "file_extension": ".py",
   "mimetype": "text/x-python",
   "name": "python",
   "nbconvert_exporter": "python",
   "pygments_lexer": "ipython3",
   "version": "3.9.12"
  }
 },
 "nbformat": 4,
 "nbformat_minor": 5
}
