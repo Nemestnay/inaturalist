import os
import pandas as pd


# Путь к папке с файлами .csv
folder_path = '/home/alena/Рабочий стол/Уник/наука о данных/inaturalist/csv_dir'
file_list = os.listdir(folder_path)
combined_df = pd.DataFrame()

for file in file_list:
    if file.endswith('.csv'):
        file_path = os.path.join(folder_path, file)
        df = pd.read_csv(file_path)
        combined_df = pd.concat([combined_df, df], ignore_index=True)


combined_df.head()


combined_df.shape


selected_columns = ['id', 'image_url', 'type']
filtered_df = combined_df[selected_columns].dropna().reset_index(drop=True).copy()
filtered_df['id'] = filtered_df.index
class_mapping = {
    'желтоносая': 'желтоносая',
    'пестроносая': 'пестроносая'
}
filtered_df['type'] = filtered_df['type'].map(class_mapping)
filtered_df


output_file_path = '/home/alena/Рабочий стол/Уник/наука о данных/inaturalist/filtered_data.csv'
filtered_df.to_csv(output_file_path, index=False)
print(f"Данные сохранены в файл: {output_file_path}")


import os
import requests

image_folder_path = {}
for class_ in filtered_df['type'].unique():
    image_folder_path[class_] = 'images/'+class_
    os.makedirs(image_folder_path[class_], exist_ok=True)

for index, row in filtered_df.iterrows():
    image_index = row['id']
    image_url = row['image_url']
    image_class = row['type']
    image_path = os.path.join(image_folder_path[image_class], f'{image_index}.jpg')

    if not os.path.exists(image_path):
        response = requests.get(image_url)
        with open(image_path, 'wb') as f:
            f.write(response.content)

        print(f"Изображение {image_index} сохранено в {image_path}")
    else:
        print(f"Изображение {image_index} уже существует в {image_path}. Пропускаем.")
